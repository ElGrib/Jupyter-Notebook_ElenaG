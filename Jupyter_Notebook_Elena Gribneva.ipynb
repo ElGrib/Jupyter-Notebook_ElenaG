{
  "metadata": {
    "kernelspec": {
      "name": "python",
      "display_name": "Pyolite",
      "language": "python"
    },
    "language_info": {
      "codemirror_mode": {
        "name": "python",
        "version": 3
      },
      "file_extension": ".py",
      "mimetype": "text/x-python",
      "name": "python",
      "nbconvert_exporter": "python",
      "pygments_lexer": "ipython3",
      "version": "3.8"
    }
  },
  "nbformat_minor": 4,
  "nbformat": 4,
  "cells": [
    {
      "cell_type": "markdown",
      "source": "<center>\n    <img src=\"https://cf-courses-data.s3.us.cloud-object-storage.appdomain.cloud/IBMDeveloperSkillsNetwork-DS0105EN-SkillsNetwork/labs/Module2/images/SN_web_lightmode.png\" width=\"300\" alt=\"cognitiveclass.ai logo\">\n</center>\n",
      "metadata": {}
    },
    {
      "cell_type": "markdown",
      "source": "#### Add your code below following the instructions given in the course\n",
      "metadata": {}
    },
    {
      "cell_type": "markdown",
      "source": "<H1>My Jupyter Notebook on IBM Watson Studio</H1>",
      "metadata": {}
    },
    {
      "cell_type": "markdown",
      "source": "<b>Elena Gribneva</b> <br>\nData Scientist",
      "metadata": {}
    },
    {
      "cell_type": "markdown",
      "source": "<i>I am interested in data science because I believe that this new discipline could solve not only problems of the modern world like climate changes, health care, biological diversity, but also to contribute for the integrating of the \"good practices\" in every company, small or big, organizations, ect.</i>",
      "metadata": {}
    },
    {
      "cell_type": "markdown",
      "source": "<H3> In the next cell will be demonstrated an addition of two numbers \"1+1\"</H3>",
      "metadata": {}
    },
    {
      "cell_type": "code",
      "source": "1+1",
      "metadata": {
        "trusted": true
      },
      "execution_count": 2,
      "outputs": [
        {
          "execution_count": 2,
          "output_type": "execute_result",
          "data": {
            "text/plain": "2"
          },
          "metadata": {}
        }
      ]
    },
    {
      "cell_type": "markdown",
      "source": "<hr>\n<ul>\n    <li> Unordered list 1 </li>\n    <li> Unordered list 2 </li>\n    <li> Unordered list 3 </li>\n</ul>\n<hr>\n<table>\n    <tr>\n        <th>Name</th>\n        <th>Desired occupation</th>\n    </tr>\n    <tr>\n        <td>Elena Gribneva</td>\n        <td>Data Scientist</td>\n    </tr>\n</table>\n<hr>",
      "metadata": {}
    },
    {
      "cell_type": "code",
      "source": "",
      "metadata": {},
      "execution_count": null,
      "outputs": []
    }
  ]
}